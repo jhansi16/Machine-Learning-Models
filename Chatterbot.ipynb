{
  "nbformat": 4,
  "nbformat_minor": 0,
  "metadata": {
    "colab": {
      "name": "Chatterbot.ipynb",
      "provenance": [],
      "collapsed_sections": [],
      "authorship_tag": "ABX9TyOYz4gKy1iQYXWJHIk+rTu6",
      "include_colab_link": true
    },
    "kernelspec": {
      "name": "python3",
      "display_name": "Python 3"
    },
    "language_info": {
      "name": "python"
    }
  },
  "cells": [
    {
      "cell_type": "markdown",
      "metadata": {
        "id": "view-in-github",
        "colab_type": "text"
      },
      "source": [
        "<a href=\"https://colab.research.google.com/github/jhansi16/Machine-Learning-Models/blob/main/Chatterbot.ipynb\" target=\"_parent\"><img src=\"https://colab.research.google.com/assets/colab-badge.svg\" alt=\"Open In Colab\"/></a>"
      ]
    },
    {
      "cell_type": "code",
      "metadata": {
        "id": "f9ejA2s09pym"
      },
      "source": [
        "pip install chatterbot #chatterbot library"
      ],
      "execution_count": null,
      "outputs": []
    },
    {
      "cell_type": "code",
      "metadata": {
        "id": "DyKQId1V9wvS"
      },
      "source": [
        "pip install chatterbot_corpus #The ChatterBot text corpus (language resource consisting of a large and structured set of texts) \n",
        "                              # is distributed in its own Python package, so you need to install it separately"
      ],
      "execution_count": null,
      "outputs": []
    },
    {
      "cell_type": "code",
      "metadata": {
        "id": "cvO9LV9p977T"
      },
      "source": [
        "pip install spacy #an open source library for advanced Natural Language Processing"
      ],
      "execution_count": null,
      "outputs": []
    },
    {
      "cell_type": "code",
      "metadata": {
        "id": "lX-2MqyY-XOP"
      },
      "source": [
        "from chatterbot import ChatBot"
      ],
      "execution_count": 10,
      "outputs": []
    },
    {
      "cell_type": "code",
      "metadata": {
        "id": "QLCpmo2N-dVV"
      },
      "source": [
        "bot = ChatBot('Buddy', read_only = True)"
      ],
      "execution_count": 11,
      "outputs": []
    },
    {
      "cell_type": "code",
      "metadata": {
        "colab": {
          "base_uri": "https://localhost:8080/"
        },
        "id": "2OKpoQ1U-lsE",
        "outputId": "f0d7f44e-9dc4-4b79-d50b-6e152d48dc64"
      },
      "source": [
        "from chatterbot.trainers import ListTrainer\n",
        "trainer = ListTrainer(bot)\n",
        "trainer.train([\n",
        "    \"Hi, can I help you\",\n",
        "    \"Who are you?\",\n",
        "    \"I am your virtual assistant. Ask me any questions...\",\n",
        "    \"Where do you operate?\",\n",
        "    \"We operate from Singapore\",\n",
        "    \"What payment methods do you accept?\",\n",
        "    \"We accept debit cards and major credit cards\",\n",
        "    \"I would like to speak to your customer service agent\",\n",
        "    \"please call +65 3333 3333. Our operating hours are from 9am to 5pm, Monday to Friday\"\n",
        "    \n",
        "])\n",
        "trainer.train([\n",
        "    \"What payment methods do you offer?\",\n",
        "    \"We accept debit cards and major credit cards\",\n",
        "    \"How to contact customer service agent\",\n",
        "    \"please call +65 3333 3333. Our operating hours are from 9am to 5pm, Monday to Friday\"\n",
        "    \n",
        "])"
      ],
      "execution_count": 12,
      "outputs": [
        {
          "output_type": "stream",
          "name": "stdout",
          "text": [
            "List Trainer: [####################] 100%\n",
            "List Trainer: [####################] 100%\n"
          ]
        }
      ]
    },
    {
      "cell_type": "code",
      "metadata": {
        "colab": {
          "base_uri": "https://localhost:8080/"
        },
        "id": "4M_corl8-pvO",
        "outputId": "747bbb2f-4069-49ca-bd7c-a069ae1b0cb7"
      },
      "source": [
        "response = bot.get_response ('payment method')\n",
        "print(response)"
      ],
      "execution_count": 13,
      "outputs": [
        {
          "output_type": "stream",
          "name": "stdout",
          "text": [
            "We accept debit cards and major credit cards\n"
          ]
        }
      ]
    },
    {
      "cell_type": "code",
      "metadata": {
        "colab": {
          "base_uri": "https://localhost:8080/"
        },
        "id": "gDJ5N3Hc_FeD",
        "outputId": "6bdbf5f9-65dc-487a-8d29-2810bffd2e2a"
      },
      "source": [
        "from chatterbot.trainers import ChatterBotCorpusTrainer\n",
        "trainer = ChatterBotCorpusTrainer(bot)\n",
        "trainer.train('chatterbot.corpus.english')"
      ],
      "execution_count": 15,
      "outputs": [
        {
          "output_type": "stream",
          "name": "stdout",
          "text": [
            "Training ai.yml: [####################] 100%\n",
            "Training botprofile.yml: [####################] 100%\n",
            "Training computers.yml: [####################] 100%\n",
            "Training conversations.yml: [####################] 100%\n",
            "Training emotion.yml: [####################] 100%\n",
            "Training food.yml: [####################] 100%\n",
            "Training gossip.yml: [####################] 100%\n",
            "Training greetings.yml: [####################] 100%\n",
            "Training health.yml: [####################] 100%\n",
            "Training history.yml: [####################] 100%\n",
            "Training humor.yml: [####################] 100%\n",
            "Training literature.yml: [####################] 100%\n",
            "Training money.yml: [####################] 100%\n",
            "Training movies.yml: [####################] 100%\n",
            "Training politics.yml: [####################] 100%\n",
            "Training psychology.yml: [####################] 100%\n",
            "Training science.yml: [####################] 100%\n",
            "Training sports.yml: [####################] 100%\n",
            "Training trivia.yml: [####################] 100%\n"
          ]
        }
      ]
    },
    {
      "cell_type": "code",
      "metadata": {
        "id": "_DGKT4l6_vzR"
      },
      "source": [
        "bot = ChatBot('Buddy',\n",
        "             read_only = True,\n",
        "             preprocessors=['chatterbot.preprocessors.clean_whitespace',                            'chatterbot.preprocessors.unescape_html',                          'chatterbot.preprocessors.convert_to_ascii'])"
      ],
      "execution_count": 17,
      "outputs": []
    },
    {
      "cell_type": "code",
      "metadata": {
        "id": "9jDfyoTe_4_q"
      },
      "source": [
        "bot = ChatBot('Buddy',\n",
        "             logic_adapters = [\n",
        "                 {\n",
        "                     'import_path': 'chatterbot.logic.BestMatch',\n",
        "                     'default_response': 'I am sorry, I do not understand. I am still learning. Please contact abc@xxx.com for further assistance.',\n",
        "                     'maximum_similarity_threshold': 0.90\n",
        "                 }\n",
        "             ],\n",
        "             read_only = True,\n",
        "             preprocessors=['chatterbot.preprocessors.clean_whitespace',\n",
        "'chatterbot.preprocessors.unescape_html',\n",
        "'chatterbot.preprocessors.convert_to_ascii'])"
      ],
      "execution_count": 18,
      "outputs": []
    },
    {
      "cell_type": "code",
      "metadata": {
        "colab": {
          "base_uri": "https://localhost:8080/"
        },
        "id": "6rhEU4Xv-03I",
        "outputId": "b144330c-3e18-442e-c3c3-9123d9c70578"
      },
      "source": [
        "name = input('Enter Your Name: ')\n",
        "print ('Welcome to Chatbot Service! Let me know how can I help you')\n",
        "while True:\n",
        "    \n",
        "    request = input(name+':')\n",
        "    \n",
        "    if request==\"Bye\" or request=='bye':\n",
        "        print('Bot: Bye')\n",
        "        break\n",
        "    else:\n",
        "        response=bot.get_response(request)\n",
        "        print('Bot: ', response)\n"
      ],
      "execution_count": 19,
      "outputs": [
        {
          "output_type": "stream",
          "name": "stdout",
          "text": [
            "Enter Your Name: Jhansi\n",
            "Welcome to Chatbot Service! Let me know how can I help you\n",
            "Jhansi:Hello\n",
            "Bot:  Hi\n",
            "Jhansi:How are you\n",
            "Bot:  I am on the Internet.\n",
            "Jhansi:what is your name\n",
            "Bot:  I am still young by your standards.\n",
            "Jhansi:tell me a joke\n",
            "Bot:  Did you hear the one about the mountain goats in the andes? It was \"ba a a a a a d\".\n",
            "Jhansi:joke\n",
            "Bot:  Did you hear the one about the mountain goats in the andes? It was \"ba a a a a a d\".\n",
            "Jhansi:tell me\n",
            "Bot:  I am sorry, I do not understand. I am still learning. Please contact abc@xxx.com for further assistance.\n",
            "Jhansi:age\n",
            "Bot:  please call +65 3333 3333. Our operating hours are from 9am to 5pm, Monday to Friday\n",
            "Jhansi:bye\n",
            "Bot: Bye\n"
          ]
        }
      ]
    }
  ]
}